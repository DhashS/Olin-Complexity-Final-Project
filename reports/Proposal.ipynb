{
 "cells": [
  {
   "cell_type": "markdown",
   "metadata": {},
   "source": [
    "# Investigating PTAS's for NP-Hard problems on Graphs\n",
    "## Specifically the *Highway* and Euclidian TSP in $\\mathbf{R}^n$\n",
    "### Dhasharath Shrivathsa\n",
    "\n",
    "#### Proposal:\n",
    "Euclidian TSP and the Higway problem are two of the best studied NP-Hard problems in computer science. My intention with this report is to investigate the path of research from papers where a $O(\\log n), \\epsilon \\approx 0.874$ was proposed to some more recent research which imporoves this to $O(\\log n\\ / \\log \\log n)$\n",
    "\n",
    "Similarly for the Euclidian TSP, I hope to study the initial simple approximation algorithim with a $O(n^{20m + 5}), \\epsilon = \\frac{c}{m}$ where c is some constant factor pertaining to the graph (1, $\\sqrt{2}$) and $m$ is the number of \"guillotines\" required in the solution of the problem to current schemes which are $O(n^{(log n)O(c)}), \\epsilon = 1 + \\frac{1}{c}$, which are nearly constant time.\n",
    "\n",
    "The tools that I'll be using to answer and visualize these methods are those we've been using in this class all along, as well as real-world and artificailly created graph datasets to run them on. This should provide me with a set of nice complexity curves that show the improvement in algorithims over the years, and pertinient visualizations to how the algorithims work inside. (The $m$-guillotine one lends itself particularly well to visualization)\n",
    "\n",
    "After discussion with the teaching team, it seems the best way forward is to proceed with several solvers for Euc-TSP, both agent and heuristic based, and evaluate them based on a complexity vs performance basis.\n",
    "\n",
    "#### Problem Definition:\n",
    "In the highway problem, we are given an n-edge line graph (the highway), and a set of paths (the drivers), each one with its own budget. For a given assignment of edge weights (the tolls), the highway owner collects from each driver the weight of the associated path, when it does not exceed the budget of the driver, and zero otherwise. The goal is choosing weights so as to maximize the profit.\n",
    "\n",
    "The Euclidian TSP is a equivalent-hardness special case of the TSP, where graph nodes are located in $\\mathbf{R}^n$, so the trangle inequality always is true. It's the most researched one too.\n",
    "\n"
   ]
  },
  {
   "cell_type": "markdown",
   "metadata": {},
   "source": [
    "#### Annotated bibliography:\n",
    "\n"
   ]
  },
  {
   "cell_type": "code",
   "execution_count": null,
   "metadata": {
    "collapsed": true
   },
   "outputs": [],
   "source": []
  }
 ],
 "metadata": {
  "kernelspec": {
   "display_name": "Python 3",
   "language": "python",
   "name": "python3"
  },
  "language_info": {
   "codemirror_mode": {
    "name": "ipython",
    "version": 3
   },
   "file_extension": ".py",
   "mimetype": "text/x-python",
   "name": "python",
   "nbconvert_exporter": "python",
   "pygments_lexer": "ipython3",
   "version": "3.5.2"
  }
 },
 "nbformat": 4,
 "nbformat_minor": 0
}
