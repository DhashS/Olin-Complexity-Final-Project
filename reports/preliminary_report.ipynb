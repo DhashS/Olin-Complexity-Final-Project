{
 "cells": [
  {
   "cell_type": "markdown",
   "metadata": {},
   "source": [
    "# Complexity-Cities\n",
    "### Abstract:\n",
    "This report is intended to answer the question: \"How much computation do you need to be to solve a TSP?\"\n",
    "Several algorithims exist for solving TSP and it's equivalence. Given a dataset, how close do we come to the optimal tour given several approaches. In this, I'll use several solvers, ranging from the simple, locally greedy algorithm, up to PTAS's that achieve  $O(n^{(log n)O(c)}), \\epsilon = 1 + \\frac{1}{c}$ where $c& is user defined.\n",
    "\n",
    "I plan to write or re-implement the algorithims, relying heavily on the primitives exposed by `networkx`\n",
    "\n",
    "My ending figure of merit is a scatter plot of compute required vs distance from optimal, to compare and contrast several approaches.\n",
    "\n",
    "### Experiments:\n",
    "WIP\n",
    "#### Locally optimal greedy algorithm\n",
    "This works by picking a starting node $N$, and choosing the node corresponding to the lowest edge weight that is adjacent to it, if it has not already been visited.\n",
    "\n",
    "The implementation is provided in `code/simple_greed.ipynb`.\n",
    "\n",
    "![](../code/img/Simple greedy algorithm performance.png)\n",
    "\n",
    "The optimal tour for this graph is of length **2579**, so this is terrible performance.\n",
    "\n",
    "The code to run all greedy paths for a fully connected graph with 280 nodes (`data/a280.tsp`) takes `8.5s` to run, meaning that any individual tour takes, on average, `30.36ms`. \n",
    "\n",
    "The time complexity is"
   ]
  },
  {
   "cell_type": "markdown",
   "metadata": {},
   "source": [
    "### Bibliography:\n",
    "\n",
    "https://arxiv.org/pdf/1004.3051.pdf : Prizing on Paths: A PTAS for the Highway Problem. \n",
    "One of the better implementations of the Highway problem\n",
    "\n",
    "http://citeseerx.ist.psu.edu/viewdoc/download?doi=10.1.1.165.7929&rep=rep1&type=pdf : Improved Orientations of Physical Networks. \n",
    "The best implementation of the Highway problem, original paper, and how given a few assumptions we can reduce some cases to $O(polylog(n))$ time.\n",
    "\n",
    "\n",
    "http://citeseerx.ist.psu.edu/viewdoc/download?doi=10.1.1.54.6594&rep=rep1&type=pdf : Nearly Linear Time Approximation Schemes for Euclidean TSP and other Geometric Problems. \n",
    "The best (comprehensible) Euclidian TSP paper\n",
    "\n",
    "\n",
    "http://citeseerx.ist.psu.edu/viewdoc/download?doi=10.1.1.56.4805&rep=rep1&type=pdf : Guillotine subdivisions approximate polygonal subdivisions: Part II - A simple polynomial-time approximation scheme for geometric k-MST, TSP, and related problems.\n",
    "THe original paper regarting PTAS's for Euclidian TSP"
   ]
  },
  {
   "cell_type": "code",
   "execution_count": 1,
   "metadata": {},
   "outputs": [
    {
     "data": {
      "text/plain": [
       "0.030357142857142857"
      ]
     },
     "execution_count": 1,
     "metadata": {},
     "output_type": "execute_result"
    }
   ],
   "source": [
    "8.5/280"
   ]
  },
  {
   "cell_type": "code",
   "execution_count": null,
   "metadata": {},
   "outputs": [],
   "source": []
  }
 ],
 "metadata": {
  "kernelspec": {
   "display_name": "Python 3",
   "language": "python",
   "name": "python3"
  },
  "language_info": {
   "codemirror_mode": {
    "name": "ipython",
    "version": 3
   },
   "file_extension": ".py",
   "mimetype": "text/x-python",
   "name": "python",
   "nbconvert_exporter": "python",
   "pygments_lexer": "ipython3",
   "version": "3.5.2"
  }
 },
 "nbformat": 4,
 "nbformat_minor": 1
}
