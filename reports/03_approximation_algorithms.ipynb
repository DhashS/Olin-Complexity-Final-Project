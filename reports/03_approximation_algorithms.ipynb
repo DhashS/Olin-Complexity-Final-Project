{
 "cells": [
  {
   "cell_type": "code",
   "execution_count": 1,
   "metadata": {
    "collapsed": true
   },
   "outputs": [],
   "source": [
    "%matplotlib inline\n",
    "import matplotlib.pyplot as plt\n",
    "import seaborn as sns\n",
    "from graphgen import EUC_2D\n",
    "from algs import minimum_perfect_matching #suboptimal, use Blossom V if you need to actually use it\n",
    "from algs import brute_force\n",
    "import networkx as nx\n",
    "import itertools as it\n",
    "import numpy as np"
   ]
  },
  {
   "cell_type": "markdown",
   "metadata": {},
   "source": [
    "# Christofides algorithm\n",
    "\n",
    "1. Create a minimum spanning tree T of G.\n",
    "1. Let O be the set of vertices with odd degree in T. By the handshaking lemma, O has an even number of vertices.\n",
    "1. Find a minimum-weight perfect matching M in the induced subgraph given by the vertices from O.\n",
    "1. Combine the edges of M and T to form a connected multigraph H in which each vertex has even degree.\n",
    "1. Form an Eulerian circuit in H.\n",
    "1. Make the circuit found in previous step into a Hamiltonian circuit by skipping repeated vertices (shortcutting)\n",
    "\n",
    "\n",
    "The Christofides algorithim is one of the key algorithms regarding the travelling salesman problem. It has a $\\frac{3}{2}$ bound on it's apprioximation, meaning the tour it produces, at most, is $\\frac{3}{2}$ worse than the optimal tour. Here's a demonstration on a random Euclidean graph. The Christofides algorithm is one of the first approximation algorithms, formtive in the building of the field."
   ]
  },
  {
   "cell_type": "code",
   "execution_count": 2,
   "metadata": {
    "collapsed": false
   },
   "outputs": [],
   "source": [
    "def Christofides(G):\n",
    "    T = nx.algorithms.minimum_spanning_tree(G)\n",
    "    O = {n for n, d in T.degree(T.nodes_iter()).items() if d%2 == 1}\n",
    "    induced_subgraph = nx.Graph(G.subgraph(O))            \n",
    "    M = minimum_perfect_matching(induced_subgraph)\n",
    "\n",
    "    T.add_weighted_edges_from([(u,v,M[u][v]['weight']) for u, v in M.edges()])\n",
    "    H = T\n",
    "    \n",
    "    seen = set()\n",
    "    tour = []\n",
    "    for u, _ in nx.eulerian_circuit(H):\n",
    "        if not u in seen:\n",
    "            tour.append(u)\n",
    "            seen.add(u)\n",
    "    return tour"
   ]
  },
  {
   "cell_type": "code",
   "execution_count": 3,
   "metadata": {
    "collapsed": false
   },
   "outputs": [],
   "source": [
    "G = EUC_2D(10)\n",
    "opt_christofides = Christofides(G)"
   ]
  },
  {
   "cell_type": "code",
   "execution_count": 4,
   "metadata": {
    "collapsed": false
   },
   "outputs": [
    {
     "data": {
      "text/plain": [
       "([0, 7, 8, 5, 9, 3, 6, 4, 2, 1], 11.674609901636719)"
      ]
     },
     "execution_count": 4,
     "metadata": {},
     "output_type": "execute_result"
    }
   ],
   "source": [
    "cost = 0\n",
    "for u, v in zip(opt_christofides, opt_christofides[1:]):\n",
    "    cost += G[u][v]['weight']\n",
    "opt_christofides, cost"
   ]
  },
  {
   "cell_type": "code",
   "execution_count": 5,
   "metadata": {
    "collapsed": false
   },
   "outputs": [
    {
     "data": {
      "text/plain": [
       "0    (8, 7, 6, 0, 4, 2, 1, 3, 9, 5)\n",
       "Name: opt_tour, dtype: object"
      ]
     },
     "execution_count": 5,
     "metadata": {},
     "output_type": "execute_result"
    }
   ],
   "source": [
    "opt, _ = brute_force(G)\n",
    "opt.opt_tour"
   ]
  },
  {
   "cell_type": "code",
   "execution_count": 6,
   "metadata": {
    "collapsed": false
   },
   "outputs": [
    {
     "data": {
      "text/plain": [
       "0    8.792924\n",
       "Name: cost, dtype: float64"
      ]
     },
     "execution_count": 6,
     "metadata": {},
     "output_type": "execute_result"
    }
   ],
   "source": [
    "opt.cost"
   ]
  },
  {
   "cell_type": "code",
   "execution_count": 7,
   "metadata": {
    "collapsed": false
   },
   "outputs": [
    {
     "data": {
      "text/plain": [
       "0    13.189386\n",
       "Name: cost, dtype: float64"
      ]
     },
     "execution_count": 7,
     "metadata": {},
     "output_type": "execute_result"
    }
   ],
   "source": [
    "1.5*opt.cost #upper bound on cost"
   ]
  },
  {
   "cell_type": "markdown",
   "metadata": {
    "collapsed": false
   },
   "source": [
    "# Lin-kernighan ($K$-opt heuristic)\n",
    "\n",
    "The Lin-kernighan heuristic is a way to \"settle\" a tour into a local optimum by investigating small, local changes in the tour. The locality of the change is the parameter $k$, which specifies how many 2-node pairs to swap and check if the cost is lower.\n",
    "\n",
    "\n",
    "This is what a 2-opt switch looks like. If the new tour is lower cost than the unperturbed tour, we store it again and run the whole process over. Speeding this up and \"boosting\" out of local minima to better solutions can be achieved with higher $k$.\n",
    "![intuitive 2-opt process](https://upload.wikimedia.org/wikipedia/en/thumb/f/f2/Showing_a_step_of_the_two-opt_heuristic.png/440px-Showing_a_step_of_the_two-opt_heuristic.png)\n",
    "\n",
    "\n",
    "Let's run the two-opt until there's no improvement."
   ]
  },
  {
   "cell_type": "code",
   "execution_count": 8,
   "metadata": {
    "collapsed": false
   },
   "outputs": [],
   "source": [
    "def two_opt(G, tour):\n",
    "    from functools import reduce\n",
    "    #Consider all 2-node groups in the tour (Exhaustive enumeration)\n",
    "    cost = lambda t: sum([G[u][v]['weight'] for u, v in zip(t, t[1:])])\n",
    "\n",
    "    def inner(i_tour):\n",
    "        for i in range(len(i_tour)):\n",
    "            for i2 in range(len(i_tour)):\n",
    "                if i<i2:\n",
    "                    if i2-i < 2:\n",
    "                        continue\n",
    "                    tour_c = i_tour[:]\n",
    "                    tour_c[i:i2] = list(reversed(i_tour[i:i2]))\n",
    "                    if cost(tour_c) < opt:\n",
    "                        return tour_c #not done yet, have to re-run since \"bubble\" has to be re-evaluated\n",
    "        return True #No advantageous swap\n",
    "    old_res = tour\n",
    "    opt = cost(tour)\n",
    "    it_opts = []\n",
    "    while True:\n",
    "        res = inner(old_res)\n",
    "        if res == True:\n",
    "            return (old_res, it_opts)\n",
    "        if type(res) == list:\n",
    "            it_opts.append(res)\n",
    "            old_res = res\n",
    "            opt = cost(res)"
   ]
  },
  {
   "cell_type": "code",
   "execution_count": 14,
   "metadata": {
    "collapsed": false
   },
   "outputs": [
    {
     "name": "stdout",
     "output_type": "stream",
     "text": [
      "[43, 18, 10, 16, 15, 21, 39, 3, 13, 33, 47, 29, 25, 22, 46, 48, 20, 34, 17, 5, 32, 4, 9, 27, 8, 35, 45, 41, 38, 37, 40, 11, 0, 2, 23, 28, 30, 14, 26, 19, 42, 24, 31, 36, 1, 12, 7, 44, 6, 49]\n",
      "Pre $K$-opt:  80.0384254487\n",
      "Post $K$-opt cost:  23.4920708742\n"
     ]
    }
   ],
   "source": [
    "G = EUC_2D(50)\n",
    "res, ts = two_opt(G, list(range(len(G)))) #naive seed tour\n",
    "print(res) #That looks different! We've settled into a local minima\n",
    "cost = lambda t: sum([G[u][v]['weight'] for u, v in zip(t, t[1:])])\n",
    "print(\"Pre $K$-opt: \", cost(range(len(G))))\n",
    "print(\"Post $K$-opt cost: \", cost(res))"
   ]
  },
  {
   "cell_type": "code",
   "execution_count": 15,
   "metadata": {
    "collapsed": false
   },
   "outputs": [
    {
     "data": {
      "image/png": "[encoded data removed]",
      "text/plain": [
       "<matplotlib.figure.Figure at 0x7fc7a0253dd8>"
      ]
     },
     "metadata": {},
     "output_type": "display_data"
    }
   ],
   "source": [
    "plt.figure()\n",
    "plt.plot([cost(t) for t in ts]) #Let's see how cost drops per iteration of 2-opt\n",
    "plt.show()"
   ]
  },
  {
   "cell_type": "markdown",
   "metadata": {},
   "source": [
    "For Euclidean case, $\\frac{\\texttt{Tour}_{k-opt}}{\\texttt{Tour}_{opt}} \\leq O(\\log |V|)$."
   ]
  },
  {
   "cell_type": "markdown",
   "metadata": {
    "collapsed": true
   },
   "source": [
    "# Arora and JSB Mitchell PTAS"
   ]
  },
  {
   "cell_type": "markdown",
   "metadata": {
    "collapsed": true
   },
   "source": [
    "Sanjeev Arora and JSB Mitchell proposed a PTAS for the Travelling salesman problem. After looking at the problem for a while and understanding the algorithm intuitivley, the best I can provide is a rationale for a lack of implementation. \n",
    "\n",
    "https://pdfs.semanticscholar.org/7056/caeba3fa0d4064d03ef53fc2090974b70c71.pdf\n",
    "\n",
    "    The Traveling Salesman Problem (TSP) is perhaps\n",
    "    the most famous optimization problem in the set NP-hard.\n",
    "    Many problems that are natural applications in computer\n",
    "    science and engineering can be modeled using TSP and\n",
    "    therefore, researchers are searching implementations focusing\n",
    "    on the quality of the produced solution and their\n",
    "    computational time. An innovative Polynomial-Time\n",
    "    Approximation Scheme (PTAS) for the Euclidean TSP was\n",
    "    given by Sanjeev Arora. To date, there is no evidence that it\n",
    "    can be implemented to be practically useful\n",
    "    \n",
    "    \n",
    "    Experimental results show that Arora´s PTAS is practically feasible. Table I and Table II show that in spite of its good performance, it seems that our approach must be improved to generate more approximate solutions. In most cases the significant theoretical results are lost due to implementation decisions. We think the quality of the solutions had to do with implementation aspects linked to data structures and the need to give more hints about which portals must be used by the tour.\n",
    "    \n",
    "    \n",
    "This is a team with a substantial amount of knowlege behind them. Hopefully this provides a sense of the scale of the task"
   ]
  },
  {
   "cell_type": "code",
   "execution_count": null,
   "metadata": {
    "collapsed": true
   },
   "outputs": [],
   "source": []
  }
 ],
 "metadata": {
  "anaconda-cloud": {},
  "kernelspec": {
   "display_name": "Python [default]",
   "language": "python",
   "name": "python3"
  },
  "language_info": {
   "codemirror_mode": {
    "name": "ipython",
    "version": 3
   },
   "file_extension": ".py",
   "mimetype": "text/x-python",
   "name": "python",
   "nbconvert_exporter": "python",
   "pygments_lexer": "ipython3",
   "version": "3.5.2"
  }
 },
 "nbformat": 4,
 "nbformat_minor": 1
}
